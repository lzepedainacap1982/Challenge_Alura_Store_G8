{
  "nbformat": 4,
  "nbformat_minor": 0,
  "metadata": {
    "colab": {
      "provenance": [],
      "include_colab_link": true
    },
    "kernelspec": {
      "name": "python3",
      "display_name": "Python 3"
    },
    "language_info": {
      "name": "python"
    }
  },
  "cells": [
    {
      "cell_type": "markdown",
      "metadata": {
        "id": "view-in-github",
        "colab_type": "text"
      },
      "source": [
        "<a href=\"https://colab.research.google.com/github/lzepedainacap1982/Challenge_Alura_Store_G8/blob/main/AluraStoreLatam.ipynb\" target=\"_parent\"><img src=\"https://colab.research.google.com/assets/colab-badge.svg\" alt=\"Open In Colab\"/></a>"
      ]
    },
    {
      "cell_type": "markdown",
      "source": [
        "### Importación de datos\n",
        "\n"
      ],
      "metadata": {
        "id": "RhEdWd9YUR6H"
      }
    },
    {
      "cell_type": "code",
      "execution_count": 10,
      "metadata": {
        "colab": {
          "base_uri": "https://localhost:8080/",
          "height": 206
        },
        "id": "T3EvaeQ_INIL",
        "outputId": "f60fb6ec-9b0c-48ad-be0a-cb15636c12b7"
      },
      "outputs": [
        {
          "output_type": "execute_result",
          "data": {
            "text/plain": [
              "            Producto Categoría del Producto    Precio  Costo de envío  \\\n",
              "0  Asistente virtual           Electrónicos  164300.0          6900.0   \n",
              "1    Mesa de comedor                Muebles  192300.0          8400.0   \n",
              "2      Juego de mesa               Juguetes  209600.0         15900.0   \n",
              "3         Microondas      Electrodomésticos  757500.0         41000.0   \n",
              "4   Silla de oficina                Muebles  335200.0         20200.0   \n",
              "\n",
              "  Fecha de Compra         Vendedor Lugar de Compra  Calificación  \\\n",
              "0      16/01/2021      Pedro Gomez          Bogotá             4   \n",
              "1      18/05/2022  Beatriz Morales        Medellín             1   \n",
              "2      15/03/2021   Juan Fernandez       Cartagena             1   \n",
              "3      03/05/2022   Juan Fernandez            Cali             4   \n",
              "4      07/11/2020    Maria Alfonso        Medellín             5   \n",
              "\n",
              "       Método de pago  Cantidad de cuotas       lat       lon  \n",
              "0  Tarjeta de crédito                   8   4.60971 -74.08175  \n",
              "1  Tarjeta de crédito                   4   6.25184 -75.56359  \n",
              "2  Tarjeta de crédito                   1  10.39972 -75.51444  \n",
              "3               Nequi                   1   3.43722 -76.52250  \n",
              "4               Nequi                   1   6.25184 -75.56359  "
            ],
            "text/html": [
              "\n",
              "  <div id=\"df-bf5fa429-b87c-481d-b42c-76d9d84c13e1\" class=\"colab-df-container\">\n",
              "    <div>\n",
              "<style scoped>\n",
              "    .dataframe tbody tr th:only-of-type {\n",
              "        vertical-align: middle;\n",
              "    }\n",
              "\n",
              "    .dataframe tbody tr th {\n",
              "        vertical-align: top;\n",
              "    }\n",
              "\n",
              "    .dataframe thead th {\n",
              "        text-align: right;\n",
              "    }\n",
              "</style>\n",
              "<table border=\"1\" class=\"dataframe\">\n",
              "  <thead>\n",
              "    <tr style=\"text-align: right;\">\n",
              "      <th></th>\n",
              "      <th>Producto</th>\n",
              "      <th>Categoría del Producto</th>\n",
              "      <th>Precio</th>\n",
              "      <th>Costo de envío</th>\n",
              "      <th>Fecha de Compra</th>\n",
              "      <th>Vendedor</th>\n",
              "      <th>Lugar de Compra</th>\n",
              "      <th>Calificación</th>\n",
              "      <th>Método de pago</th>\n",
              "      <th>Cantidad de cuotas</th>\n",
              "      <th>lat</th>\n",
              "      <th>lon</th>\n",
              "    </tr>\n",
              "  </thead>\n",
              "  <tbody>\n",
              "    <tr>\n",
              "      <th>0</th>\n",
              "      <td>Asistente virtual</td>\n",
              "      <td>Electrónicos</td>\n",
              "      <td>164300.0</td>\n",
              "      <td>6900.0</td>\n",
              "      <td>16/01/2021</td>\n",
              "      <td>Pedro Gomez</td>\n",
              "      <td>Bogotá</td>\n",
              "      <td>4</td>\n",
              "      <td>Tarjeta de crédito</td>\n",
              "      <td>8</td>\n",
              "      <td>4.60971</td>\n",
              "      <td>-74.08175</td>\n",
              "    </tr>\n",
              "    <tr>\n",
              "      <th>1</th>\n",
              "      <td>Mesa de comedor</td>\n",
              "      <td>Muebles</td>\n",
              "      <td>192300.0</td>\n",
              "      <td>8400.0</td>\n",
              "      <td>18/05/2022</td>\n",
              "      <td>Beatriz Morales</td>\n",
              "      <td>Medellín</td>\n",
              "      <td>1</td>\n",
              "      <td>Tarjeta de crédito</td>\n",
              "      <td>4</td>\n",
              "      <td>6.25184</td>\n",
              "      <td>-75.56359</td>\n",
              "    </tr>\n",
              "    <tr>\n",
              "      <th>2</th>\n",
              "      <td>Juego de mesa</td>\n",
              "      <td>Juguetes</td>\n",
              "      <td>209600.0</td>\n",
              "      <td>15900.0</td>\n",
              "      <td>15/03/2021</td>\n",
              "      <td>Juan Fernandez</td>\n",
              "      <td>Cartagena</td>\n",
              "      <td>1</td>\n",
              "      <td>Tarjeta de crédito</td>\n",
              "      <td>1</td>\n",
              "      <td>10.39972</td>\n",
              "      <td>-75.51444</td>\n",
              "    </tr>\n",
              "    <tr>\n",
              "      <th>3</th>\n",
              "      <td>Microondas</td>\n",
              "      <td>Electrodomésticos</td>\n",
              "      <td>757500.0</td>\n",
              "      <td>41000.0</td>\n",
              "      <td>03/05/2022</td>\n",
              "      <td>Juan Fernandez</td>\n",
              "      <td>Cali</td>\n",
              "      <td>4</td>\n",
              "      <td>Nequi</td>\n",
              "      <td>1</td>\n",
              "      <td>3.43722</td>\n",
              "      <td>-76.52250</td>\n",
              "    </tr>\n",
              "    <tr>\n",
              "      <th>4</th>\n",
              "      <td>Silla de oficina</td>\n",
              "      <td>Muebles</td>\n",
              "      <td>335200.0</td>\n",
              "      <td>20200.0</td>\n",
              "      <td>07/11/2020</td>\n",
              "      <td>Maria Alfonso</td>\n",
              "      <td>Medellín</td>\n",
              "      <td>5</td>\n",
              "      <td>Nequi</td>\n",
              "      <td>1</td>\n",
              "      <td>6.25184</td>\n",
              "      <td>-75.56359</td>\n",
              "    </tr>\n",
              "  </tbody>\n",
              "</table>\n",
              "</div>\n",
              "    <div class=\"colab-df-buttons\">\n",
              "\n",
              "  <div class=\"colab-df-container\">\n",
              "    <button class=\"colab-df-convert\" onclick=\"convertToInteractive('df-bf5fa429-b87c-481d-b42c-76d9d84c13e1')\"\n",
              "            title=\"Convert this dataframe to an interactive table.\"\n",
              "            style=\"display:none;\">\n",
              "\n",
              "  <svg xmlns=\"http://www.w3.org/2000/svg\" height=\"24px\" viewBox=\"0 -960 960 960\">\n",
              "    <path d=\"M120-120v-720h720v720H120Zm60-500h600v-160H180v160Zm220 220h160v-160H400v160Zm0 220h160v-160H400v160ZM180-400h160v-160H180v160Zm440 0h160v-160H620v160ZM180-180h160v-160H180v160Zm440 0h160v-160H620v160Z\"/>\n",
              "  </svg>\n",
              "    </button>\n",
              "\n",
              "  <style>\n",
              "    .colab-df-container {\n",
              "      display:flex;\n",
              "      gap: 12px;\n",
              "    }\n",
              "\n",
              "    .colab-df-convert {\n",
              "      background-color: #E8F0FE;\n",
              "      border: none;\n",
              "      border-radius: 50%;\n",
              "      cursor: pointer;\n",
              "      display: none;\n",
              "      fill: #1967D2;\n",
              "      height: 32px;\n",
              "      padding: 0 0 0 0;\n",
              "      width: 32px;\n",
              "    }\n",
              "\n",
              "    .colab-df-convert:hover {\n",
              "      background-color: #E2EBFA;\n",
              "      box-shadow: 0px 1px 2px rgba(60, 64, 67, 0.3), 0px 1px 3px 1px rgba(60, 64, 67, 0.15);\n",
              "      fill: #174EA6;\n",
              "    }\n",
              "\n",
              "    .colab-df-buttons div {\n",
              "      margin-bottom: 4px;\n",
              "    }\n",
              "\n",
              "    [theme=dark] .colab-df-convert {\n",
              "      background-color: #3B4455;\n",
              "      fill: #D2E3FC;\n",
              "    }\n",
              "\n",
              "    [theme=dark] .colab-df-convert:hover {\n",
              "      background-color: #434B5C;\n",
              "      box-shadow: 0px 1px 3px 1px rgba(0, 0, 0, 0.15);\n",
              "      filter: drop-shadow(0px 1px 2px rgba(0, 0, 0, 0.3));\n",
              "      fill: #FFFFFF;\n",
              "    }\n",
              "  </style>\n",
              "\n",
              "    <script>\n",
              "      const buttonEl =\n",
              "        document.querySelector('#df-bf5fa429-b87c-481d-b42c-76d9d84c13e1 button.colab-df-convert');\n",
              "      buttonEl.style.display =\n",
              "        google.colab.kernel.accessAllowed ? 'block' : 'none';\n",
              "\n",
              "      async function convertToInteractive(key) {\n",
              "        const element = document.querySelector('#df-bf5fa429-b87c-481d-b42c-76d9d84c13e1');\n",
              "        const dataTable =\n",
              "          await google.colab.kernel.invokeFunction('convertToInteractive',\n",
              "                                                    [key], {});\n",
              "        if (!dataTable) return;\n",
              "\n",
              "        const docLinkHtml = 'Like what you see? Visit the ' +\n",
              "          '<a target=\"_blank\" href=https://colab.research.google.com/notebooks/data_table.ipynb>data table notebook</a>'\n",
              "          + ' to learn more about interactive tables.';\n",
              "        element.innerHTML = '';\n",
              "        dataTable['output_type'] = 'display_data';\n",
              "        await google.colab.output.renderOutput(dataTable, element);\n",
              "        const docLink = document.createElement('div');\n",
              "        docLink.innerHTML = docLinkHtml;\n",
              "        element.appendChild(docLink);\n",
              "      }\n",
              "    </script>\n",
              "  </div>\n",
              "\n",
              "\n",
              "<div id=\"df-aa68fd89-6152-48b2-9af6-29aa41838c3e\">\n",
              "  <button class=\"colab-df-quickchart\" onclick=\"quickchart('df-aa68fd89-6152-48b2-9af6-29aa41838c3e')\"\n",
              "            title=\"Suggest charts\"\n",
              "            style=\"display:none;\">\n",
              "\n",
              "<svg xmlns=\"http://www.w3.org/2000/svg\" height=\"24px\"viewBox=\"0 0 24 24\"\n",
              "     width=\"24px\">\n",
              "    <g>\n",
              "        <path d=\"M19 3H5c-1.1 0-2 .9-2 2v14c0 1.1.9 2 2 2h14c1.1 0 2-.9 2-2V5c0-1.1-.9-2-2-2zM9 17H7v-7h2v7zm4 0h-2V7h2v10zm4 0h-2v-4h2v4z\"/>\n",
              "    </g>\n",
              "</svg>\n",
              "  </button>\n",
              "\n",
              "<style>\n",
              "  .colab-df-quickchart {\n",
              "      --bg-color: #E8F0FE;\n",
              "      --fill-color: #1967D2;\n",
              "      --hover-bg-color: #E2EBFA;\n",
              "      --hover-fill-color: #174EA6;\n",
              "      --disabled-fill-color: #AAA;\n",
              "      --disabled-bg-color: #DDD;\n",
              "  }\n",
              "\n",
              "  [theme=dark] .colab-df-quickchart {\n",
              "      --bg-color: #3B4455;\n",
              "      --fill-color: #D2E3FC;\n",
              "      --hover-bg-color: #434B5C;\n",
              "      --hover-fill-color: #FFFFFF;\n",
              "      --disabled-bg-color: #3B4455;\n",
              "      --disabled-fill-color: #666;\n",
              "  }\n",
              "\n",
              "  .colab-df-quickchart {\n",
              "    background-color: var(--bg-color);\n",
              "    border: none;\n",
              "    border-radius: 50%;\n",
              "    cursor: pointer;\n",
              "    display: none;\n",
              "    fill: var(--fill-color);\n",
              "    height: 32px;\n",
              "    padding: 0;\n",
              "    width: 32px;\n",
              "  }\n",
              "\n",
              "  .colab-df-quickchart:hover {\n",
              "    background-color: var(--hover-bg-color);\n",
              "    box-shadow: 0 1px 2px rgba(60, 64, 67, 0.3), 0 1px 3px 1px rgba(60, 64, 67, 0.15);\n",
              "    fill: var(--button-hover-fill-color);\n",
              "  }\n",
              "\n",
              "  .colab-df-quickchart-complete:disabled,\n",
              "  .colab-df-quickchart-complete:disabled:hover {\n",
              "    background-color: var(--disabled-bg-color);\n",
              "    fill: var(--disabled-fill-color);\n",
              "    box-shadow: none;\n",
              "  }\n",
              "\n",
              "  .colab-df-spinner {\n",
              "    border: 2px solid var(--fill-color);\n",
              "    border-color: transparent;\n",
              "    border-bottom-color: var(--fill-color);\n",
              "    animation:\n",
              "      spin 1s steps(1) infinite;\n",
              "  }\n",
              "\n",
              "  @keyframes spin {\n",
              "    0% {\n",
              "      border-color: transparent;\n",
              "      border-bottom-color: var(--fill-color);\n",
              "      border-left-color: var(--fill-color);\n",
              "    }\n",
              "    20% {\n",
              "      border-color: transparent;\n",
              "      border-left-color: var(--fill-color);\n",
              "      border-top-color: var(--fill-color);\n",
              "    }\n",
              "    30% {\n",
              "      border-color: transparent;\n",
              "      border-left-color: var(--fill-color);\n",
              "      border-top-color: var(--fill-color);\n",
              "      border-right-color: var(--fill-color);\n",
              "    }\n",
              "    40% {\n",
              "      border-color: transparent;\n",
              "      border-right-color: var(--fill-color);\n",
              "      border-top-color: var(--fill-color);\n",
              "    }\n",
              "    60% {\n",
              "      border-color: transparent;\n",
              "      border-right-color: var(--fill-color);\n",
              "    }\n",
              "    80% {\n",
              "      border-color: transparent;\n",
              "      border-right-color: var(--fill-color);\n",
              "      border-bottom-color: var(--fill-color);\n",
              "    }\n",
              "    90% {\n",
              "      border-color: transparent;\n",
              "      border-bottom-color: var(--fill-color);\n",
              "    }\n",
              "  }\n",
              "</style>\n",
              "\n",
              "  <script>\n",
              "    async function quickchart(key) {\n",
              "      const quickchartButtonEl =\n",
              "        document.querySelector('#' + key + ' button');\n",
              "      quickchartButtonEl.disabled = true;  // To prevent multiple clicks.\n",
              "      quickchartButtonEl.classList.add('colab-df-spinner');\n",
              "      try {\n",
              "        const charts = await google.colab.kernel.invokeFunction(\n",
              "            'suggestCharts', [key], {});\n",
              "      } catch (error) {\n",
              "        console.error('Error during call to suggestCharts:', error);\n",
              "      }\n",
              "      quickchartButtonEl.classList.remove('colab-df-spinner');\n",
              "      quickchartButtonEl.classList.add('colab-df-quickchart-complete');\n",
              "    }\n",
              "    (() => {\n",
              "      let quickchartButtonEl =\n",
              "        document.querySelector('#df-aa68fd89-6152-48b2-9af6-29aa41838c3e button');\n",
              "      quickchartButtonEl.style.display =\n",
              "        google.colab.kernel.accessAllowed ? 'block' : 'none';\n",
              "    })();\n",
              "  </script>\n",
              "</div>\n",
              "\n",
              "    </div>\n",
              "  </div>\n"
            ],
            "application/vnd.google.colaboratory.intrinsic+json": {
              "type": "dataframe",
              "variable_name": "tienda",
              "summary": "{\n  \"name\": \"tienda\",\n  \"rows\": 2359,\n  \"fields\": [\n    {\n      \"column\": \"Producto\",\n      \"properties\": {\n        \"dtype\": \"category\",\n        \"num_unique_values\": 51,\n        \"samples\": [\n          \"Guitarra ac\\u00fastica\",\n          \"Bal\\u00f3n de baloncesto\",\n          \"Smartwatch\"\n        ],\n        \"semantic_type\": \"\",\n        \"description\": \"\"\n      }\n    },\n    {\n      \"column\": \"Categor\\u00eda del Producto\",\n      \"properties\": {\n        \"dtype\": \"category\",\n        \"num_unique_values\": 8,\n        \"samples\": [\n          \"Muebles\",\n          \"Deportes y diversi\\u00f3n\",\n          \"Electr\\u00f3nicos\"\n        ],\n        \"semantic_type\": \"\",\n        \"description\": \"\"\n      }\n    },\n    {\n      \"column\": \"Precio\",\n      \"properties\": {\n        \"dtype\": \"number\",\n        \"std\": 614686.7653873172,\n        \"min\": 7600.0,\n        \"max\": 2977000.0,\n        \"num_unique_values\": 1937,\n        \"samples\": [\n          2499400.0,\n          14800.0,\n          80500.0\n        ],\n        \"semantic_type\": \"\",\n        \"description\": \"\"\n      }\n    },\n    {\n      \"column\": \"Costo de env\\u00edo\",\n      \"properties\": {\n        \"dtype\": \"number\",\n        \"std\": 32860.0017825605,\n        \"min\": 0.0,\n        \"max\": 160800.0,\n        \"num_unique_values\": 753,\n        \"samples\": [\n          117800.0,\n          54700.0,\n          45600.0\n        ],\n        \"semantic_type\": \"\",\n        \"description\": \"\"\n      }\n    },\n    {\n      \"column\": \"Fecha de Compra\",\n      \"properties\": {\n        \"dtype\": \"object\",\n        \"num_unique_values\": 1018,\n        \"samples\": [\n          \"15/09/2022\",\n          \"03/06/2020\",\n          \"06/11/2021\"\n        ],\n        \"semantic_type\": \"\",\n        \"description\": \"\"\n      }\n    },\n    {\n      \"column\": \"Vendedor\",\n      \"properties\": {\n        \"dtype\": \"category\",\n        \"num_unique_values\": 14,\n        \"samples\": [\n          \"Juliana Costa\",\n          \"Mariana Herrera\",\n          \"Pedro Gomez\"\n        ],\n        \"semantic_type\": \"\",\n        \"description\": \"\"\n      }\n    },\n    {\n      \"column\": \"Lugar de Compra\",\n      \"properties\": {\n        \"dtype\": \"category\",\n        \"num_unique_values\": 19,\n        \"samples\": [\n          \"Bogot\\u00e1\",\n          \"Pereira\",\n          \"Neiva\"\n        ],\n        \"semantic_type\": \"\",\n        \"description\": \"\"\n      }\n    },\n    {\n      \"column\": \"Calificaci\\u00f3n\",\n      \"properties\": {\n        \"dtype\": \"number\",\n        \"std\": 1,\n        \"min\": 1,\n        \"max\": 5,\n        \"num_unique_values\": 5,\n        \"samples\": [\n          1,\n          2,\n          5\n        ],\n        \"semantic_type\": \"\",\n        \"description\": \"\"\n      }\n    },\n    {\n      \"column\": \"M\\u00e9todo de pago\",\n      \"properties\": {\n        \"dtype\": \"category\",\n        \"num_unique_values\": 4,\n        \"samples\": [\n          \"Nequi\",\n          \"Tarjeta de d\\u00e9bito\",\n          \"Tarjeta de cr\\u00e9dito\"\n        ],\n        \"semantic_type\": \"\",\n        \"description\": \"\"\n      }\n    },\n    {\n      \"column\": \"Cantidad de cuotas\",\n      \"properties\": {\n        \"dtype\": \"number\",\n        \"std\": 2,\n        \"min\": 1,\n        \"max\": 24,\n        \"num_unique_values\": 15,\n        \"samples\": [\n          7,\n          14,\n          8\n        ],\n        \"semantic_type\": \"\",\n        \"description\": \"\"\n      }\n    },\n    {\n      \"column\": \"lat\",\n      \"properties\": {\n        \"dtype\": \"number\",\n        \"std\": 2.2874452492678627,\n        \"min\": -4.21528,\n        \"max\": 11.54444,\n        \"num_unique_values\": 19,\n        \"samples\": [\n          4.60971,\n          4.81333,\n          2.9273\n        ],\n        \"semantic_type\": \"\",\n        \"description\": \"\"\n      }\n    },\n    {\n      \"column\": \"lon\",\n      \"properties\": {\n        \"dtype\": \"number\",\n        \"std\": 1.2178272727088486,\n        \"min\": -77.28111,\n        \"max\": -67.9239,\n        \"num_unique_values\": 19,\n        \"samples\": [\n          -74.08175,\n          -75.69611,\n          -75.28189\n        ],\n        \"semantic_type\": \"\",\n        \"description\": \"\"\n      }\n    }\n  ]\n}"
            }
          },
          "metadata": {},
          "execution_count": 10
        }
      ],
      "source": [
        "import pandas as pd\n",
        "\n",
        "url = \"https://raw.githubusercontent.com/alura-es-cursos/challenge1-data-science-latam/refs/heads/main/base-de-datos-challenge1-latam/tienda_1%20.csv\"\n",
        "url2 = \"https://raw.githubusercontent.com/alura-es-cursos/challenge1-data-science-latam/refs/heads/main/base-de-datos-challenge1-latam/tienda_2.csv\"\n",
        "url3 = \"https://raw.githubusercontent.com/alura-es-cursos/challenge1-data-science-latam/refs/heads/main/base-de-datos-challenge1-latam/tienda_3.csv\"\n",
        "url4 = \"https://raw.githubusercontent.com/alura-es-cursos/challenge1-data-science-latam/refs/heads/main/base-de-datos-challenge1-latam/tienda_4.csv\"\n",
        "\n",
        "tienda = pd.read_csv(url)\n",
        "tienda2 = pd.read_csv(url2)\n",
        "tienda3 = pd.read_csv(url3)\n",
        "tienda4 = pd.read_csv(url4)\n",
        "\n",
        "tienda.head()"
      ]
    },
    {
      "cell_type": "markdown",
      "source": [
        "#1. Análisis de facturación\n",
        "\n"
      ],
      "metadata": {
        "id": "X62IW3KFUIYm"
      }
    },
    {
      "cell_type": "markdown",
      "source": [
        "## Analisis Ingreso total por cada una de las tiendas\n",
        "\n",
        "En este primer análisis, se calcula el ingreso total de cada tienda. Sumando los valores de la columna Precio de cada conjunto de datos de la tienda para estimar los ingresos."
      ],
      "metadata": {
        "id": "KB_9tIFkQSee"
      }
    },
    {
      "cell_type": "code",
      "source": [
        "# Almacenamos todas las tiendas en una lista para manejo eficiente\n",
        "tiendas = [tienda, tienda2, tienda3, tienda4]\n",
        "nombres = [\"Tienda 1\", \"Tienda 2\", \"Tienda 3\", \"Tienda 4\"]\n",
        "\n",
        "# Calculamos ingresos y convertimos a enteros\n",
        "ingresos = [int(sum(tienda['Precio'])) for tienda in tiendas]\n",
        "\n",
        "# Unimos nombres con sus valores\n",
        "resultados = list(zip(nombres, ingresos))\n",
        "\n",
        "print(\"🏪 INGRESOS TOTALES POR TIENDA:\")\n",
        "print(\"_\" *40)\n",
        "print(\"\")\n",
        "\n",
        "for nombre, total in resultados:\n",
        "  # Formato sin decimales para agregar decimal eje: total:,.2f}\")\n",
        "    print(f\"→ {nombre}: ${total:,}\")\n",
        "\n",
        "# Encontramos la mejor tienda\n",
        "mejor_tienda = max(resultados, key=lambda x: x[1])\n",
        "print(f\"\\nLa tienda con mayor facturación es 🏆 {mejor_tienda[0]} con ${mejor_tienda[1]:,}\")"
      ],
      "metadata": {
        "id": "xykobSftV64I",
        "colab": {
          "base_uri": "https://localhost:8080/"
        },
        "outputId": "b4d64559-7fbc-4c4a-f528-743eda1283f3"
      },
      "execution_count": 11,
      "outputs": [
        {
          "output_type": "stream",
          "name": "stdout",
          "text": [
            "🏪 INGRESOS TOTALES POR TIENDA:\n",
            "________________________________________\n",
            "\n",
            "→ Tienda 1: $1,150,880,400\n",
            "→ Tienda 2: $1,116,343,500\n",
            "→ Tienda 3: $1,098,019,600\n",
            "→ Tienda 4: $1,038,375,700\n",
            "\n",
            "La tienda con mayor facturación es 🏆 Tienda 1 con $1,150,880,400\n"
          ]
        }
      ]
    },
    {
      "cell_type": "markdown",
      "source": [
        "### Grafico barra para analisis visul y mejor interpretacion de los datos\n",
        "Esto nos ayudara a responder la primera consulta del analisis\n",
        "Circular y no me acuerdo"
      ],
      "metadata": {
        "id": "qTvqUYaOQ1qT"
      }
    },
    {
      "cell_type": "code",
      "source": [
        "pip install matplotlib"
      ],
      "metadata": {
        "id": "KDyr8E71V3m-",
        "outputId": "4c390961-ed91-4729-b47b-eab84a08fd23",
        "colab": {
          "base_uri": "https://localhost:8080/"
        }
      },
      "execution_count": 1,
      "outputs": [
        {
          "output_type": "stream",
          "name": "stdout",
          "text": [
            "Requirement already satisfied: matplotlib in /usr/local/lib/python3.11/dist-packages (3.10.0)\n",
            "Requirement already satisfied: contourpy>=1.0.1 in /usr/local/lib/python3.11/dist-packages (from matplotlib) (1.3.2)\n",
            "Requirement already satisfied: cycler>=0.10 in /usr/local/lib/python3.11/dist-packages (from matplotlib) (0.12.1)\n",
            "Requirement already satisfied: fonttools>=4.22.0 in /usr/local/lib/python3.11/dist-packages (from matplotlib) (4.57.0)\n",
            "Requirement already satisfied: kiwisolver>=1.3.1 in /usr/local/lib/python3.11/dist-packages (from matplotlib) (1.4.8)\n",
            "Requirement already satisfied: numpy>=1.23 in /usr/local/lib/python3.11/dist-packages (from matplotlib) (2.0.2)\n",
            "Requirement already satisfied: packaging>=20.0 in /usr/local/lib/python3.11/dist-packages (from matplotlib) (24.2)\n",
            "Requirement already satisfied: pillow>=8 in /usr/local/lib/python3.11/dist-packages (from matplotlib) (11.1.0)\n",
            "Requirement already satisfied: pyparsing>=2.3.1 in /usr/local/lib/python3.11/dist-packages (from matplotlib) (3.2.3)\n",
            "Requirement already satisfied: python-dateutil>=2.7 in /usr/local/lib/python3.11/dist-packages (from matplotlib) (2.8.2)\n",
            "Requirement already satisfied: six>=1.5 in /usr/local/lib/python3.11/dist-packages (from python-dateutil>=2.7->matplotlib) (1.17.0)\n"
          ]
        }
      ]
    },
    {
      "cell_type": "code",
      "source": [
        "import matplotlib.pyplot as plt"
      ],
      "metadata": {
        "id": "Px-t3aItKmJX"
      },
      "execution_count": 15,
      "outputs": []
    },
    {
      "cell_type": "code",
      "source": [
        "# Datos\n",
        "tiendas = [tienda, tienda2, tienda3, tienda4]\n",
        "nombres = [\"Tienda 1\", \"Tienda 2\", \"Tienda 3\", \"Tienda 4\"]\n",
        "ingresos = [int(sum(tienda['Precio'])) for tienda in tiendas]\n",
        "resultados = list(zip(nombres, ingresos))\n",
        "\n",
        "\n",
        "\n",
        "# Color único para todos los gráficos\n",
        "color = '#4CAF50'\n",
        "\n",
        "# Gráfico de barras\n",
        "plt.figure(figsize=(8, 5))\n",
        "bars = plt.bar(nombres, ingresos, color=color)\n",
        "plt.title('Ingresos Totales por Tienda')\n",
        "plt.xticks(rotation=0)\n",
        "plt.yticks([])  # Oculta el eje Y\n",
        "plt.box(False)  # Elimina el marco\n",
        "\n",
        "# Agregar etiquetas en las barras\n",
        "for bar, ingreso in zip(bars, ingresos):\n",
        "    plt.text(bar.get_x() + bar.get_width()/2, bar.get_height(), f\"${ingreso:,}\",\n",
        "             ha='center', va='bottom', fontsize=10)\n",
        "\n",
        "plt.tight_layout()\n",
        "plt.show()\n",
        "\n",
        "print(\"\\n\"*2)  # Espacio entre gráficos\n",
        "\n",
        "# Gráfico circular\n",
        "plt.figure(figsize=(6, 6))\n",
        "plt.pie(ingresos, labels=nombres, autopct=lambda p: f'{p:.1f}%\\n(${int(p*sum(ingresos)/100):,})',\n",
        "        startangle=90, colors=[color]*len(nombres))\n",
        "plt.title('Distribución de Ingresos por Tienda')\n",
        "plt.axis('equal')\n",
        "plt.tight_layout()\n",
        "plt.show()\n",
        "\n",
        "print(\"\\n\"*2)  # Espacio entre gráficos\n",
        "\n",
        "# Gráfico de línea\n",
        "plt.figure(figsize=(8, 5))\n",
        "plt.plot(nombres, ingresos, marker='o', linestyle='-', color=color)\n",
        "plt.title('Tendencia de Ingresos por Tienda')\n",
        "plt.xticks(rotation=0)\n",
        "plt.yticks([])  # Oculta el eje Y\n",
        "plt.box(False)  # Elimina el marco\n",
        "\n",
        "# Agregar valores en cada punto\n",
        "for x, y in zip(nombres, ingresos):\n",
        "    plt.text(x, y, f\"${y:,}\", ha='center', va='bottom', fontsize=10)\n",
        "\n",
        "plt.tight_layout()\n",
        "plt.show()"
      ],
      "metadata": {
        "id": "tWvoMk4zNCqO",
        "outputId": "19d4194d-e673-4e60-ed8b-79d0a5b3be99",
        "colab": {
          "base_uri": "https://localhost:8080/",
          "height": 1000
        }
      },
      "execution_count": 28,
      "outputs": [
        {
          "output_type": "display_data",
          "data": {
            "text/plain": [
              "<Figure size 800x500 with 1 Axes>"
            ],
            "image/png": "[encoded data removed]"
          },
          "metadata": {}
        },
        {
          "output_type": "stream",
          "name": "stdout",
          "text": [
            "\n",
            "\n",
            "\n"
          ]
        },
        {
          "output_type": "display_data",
          "data": {
            "text/plain": [
              "<Figure size 600x600 with 1 Axes>"
            ],
            "image/png": "[encoded data removed]"
          },
          "metadata": {}
        },
        {
          "output_type": "stream",
          "name": "stdout",
          "text": [
            "\n",
            "\n",
            "\n"
          ]
        },
        {
          "output_type": "display_data",
          "data": {
            "text/plain": [
              "<Figure size 800x500 with 1 Axes>"
            ],
            "image/png": "[encoded data removed]"
          },
          "metadata": {}
        }
      ]
    },
    {
      "cell_type": "markdown",
      "source": [
        "# 2. Ventas por categoría"
      ],
      "metadata": {
        "id": "2V_vcAPzWZmR"
      }
    },
    {
      "cell_type": "markdown",
      "source": [
        "En este analisis se calcula la cantidad de productos vendidos por categoría en cada tienda. Agrupar los datos por categoría y contar el número de ventas de cada tipo, mostrando las 3 categorías más populares de cada tienda.\n",
        "Tambien se indica que tienda es la mas y menos exitosa en numero de ventas."
      ],
      "metadata": {
        "id": "X4QQGU-kfFJu"
      }
    },
    {
      "cell_type": "code",
      "source": [
        "# Convertir DataFrames a listas de diccionarios\n",
        "datos_tienda1 = tienda.to_dict('records')\n",
        "datos_tienda2 = tienda2.to_dict('records')\n",
        "datos_tienda3 = tienda3.to_dict('records')\n",
        "datos_tienda4 = tienda4.to_dict('records')\n",
        "\n",
        "# Lista con todas las tiendas y sus nombres\n",
        "tiendas = [\n",
        "    (\"Tienda 1\", datos_tienda1),\n",
        "    (\"Tienda 2\", datos_tienda2),\n",
        "    (\"Tienda 3\", datos_tienda3),\n",
        "    (\"Tienda 4\", datos_tienda4)\n",
        "]\n",
        "\n",
        "# Procesar todas las tiendas\n",
        "resultados = []\n",
        "for nombre, datos in tiendas:\n",
        "    # Diccionario para contar categorías\n",
        "    categorias = {}\n",
        "\n",
        "    # Contar ventas por categoría\n",
        "    for producto in datos:\n",
        "        categoria = producto['Categoría del Producto']\n",
        "        if categoria in categorias:\n",
        "            categorias[categoria] += 1\n",
        "        else:\n",
        "            categorias[categoria] = 1\n",
        "\n",
        "    # Ordenar de mayor a menor\n",
        "    categorias_ordenadas = sorted(categorias.items(), key=lambda x: x[1], reverse=True)\n",
        "\n",
        "    resultados.append((nombre, categorias_ordenadas))\n",
        "\n",
        "# Mostrar resultados\n",
        "print(\"🏪 CATEGORÍAS MÁS VENDIDAS POR TIENDA\\n\")\n",
        "for nombre, categorias in resultados:\n",
        "    print(f\"→ {nombre}:\")\n",
        "    for i, (categoria, cantidad) in enumerate(categorias[:3], 1):\n",
        "        print(f\"   {i}. {categoria}: {cantidad} ventas\")\n",
        "    print(\"─\" * 40)\n",
        "\n",
        "# Calcular tienda con más ventas totales\n",
        "total_ventas = []\n",
        "for nombre, categorias in resultados:\n",
        "    total = sum(cantidad for _, cantidad in categorias)\n",
        "    total_ventas.append((nombre, total))\n",
        "\n",
        "tienda_top = max(total_ventas, key=lambda x: x[1])\n",
        "print(f\"\\n🏆 LA TIENDA CON MEJORES VENTAS: {tienda_top[0]} con {tienda_top[1]} ventas totales\")\n",
        "\n",
        "tienda_top = min(total_ventas, key=lambda x: x[1])\n",
        "print(f\"\\n❌ LA TIENDA CON MENOS VENTAS: {tienda_top[0]} con {tienda_top[1]} ventas totales\")"
      ],
      "metadata": {
        "id": "A34YupIuYhfF",
        "colab": {
          "base_uri": "https://localhost:8080/"
        },
        "outputId": "84a6080a-7694-45aa-8243-5faf0ace3c01"
      },
      "execution_count": null,
      "outputs": [
        {
          "output_type": "stream",
          "name": "stdout",
          "text": [
            "🏪 CATEGORÍAS MÁS VENDIDAS POR TIENDA\n",
            "\n",
            "→ Tienda 1:\n",
            "   1. Muebles: 465 ventas\n",
            "   2. Electrónicos: 448 ventas\n",
            "   3. Juguetes: 324 ventas\n",
            "────────────────────────────────────────\n",
            "→ Tienda 2:\n",
            "   1. Muebles: 442 ventas\n",
            "   2. Electrónicos: 422 ventas\n",
            "   3. Juguetes: 313 ventas\n",
            "────────────────────────────────────────\n",
            "→ Tienda 3:\n",
            "   1. Muebles: 499 ventas\n",
            "   2. Electrónicos: 451 ventas\n",
            "   3. Juguetes: 315 ventas\n",
            "────────────────────────────────────────\n",
            "→ Tienda 4:\n",
            "   1. Muebles: 480 ventas\n",
            "   2. Electrónicos: 451 ventas\n",
            "   3. Juguetes: 338 ventas\n",
            "────────────────────────────────────────\n",
            "\n",
            "🏆 LA TIENDA CON MEJORES VENTAS: Tienda 1 con 2359 ventas totales\n",
            "\n",
            "❌ LA TIENDA CON MENOS VENTAS: Tienda 4 con 2358 ventas totales\n"
          ]
        }
      ]
    },
    {
      "cell_type": "code",
      "source": [],
      "metadata": {
        "id": "yZR6cOjXYSk1"
      },
      "execution_count": null,
      "outputs": []
    },
    {
      "cell_type": "markdown",
      "source": [
        "# 3. Calificación promedio de la tienda\n"
      ],
      "metadata": {
        "id": "Rq6tU_xSY3jk"
      }
    },
    {
      "cell_type": "code",
      "source": [
        "# Convertir DataFrames a listas de diccionarios\n",
        "datos_tiendas = [\n",
        "    (\"Tienda 1\", tienda.to_dict('records')),\n",
        "    (\"Tienda 2\", tienda2.to_dict('records')),\n",
        "    (\"Tienda 3\", tienda3.to_dict('records')),\n",
        "    (\"Tienda 4\", tienda4.to_dict('records'))\n",
        "]\n",
        "\n",
        "# Calcular promedios\n",
        "resultados = []\n",
        "for nombre, ventas in datos_tiendas:\n",
        "    total_calificaciones = 0\n",
        "    contador = 0\n",
        "\n",
        "    for producto in ventas:\n",
        "        try:\n",
        "            # Sumar calificaciones válidas\n",
        "            total_calificaciones += float(producto['Calificación'])\n",
        "            contador += 1\n",
        "        except (KeyError, ValueError):\n",
        "            continue\n",
        "\n",
        "    promedio = total_calificaciones / contador if contador > 0 else 0\n",
        "    resultados.append((nombre, round(promedio, 2)))\n",
        "\n",
        "# Mostrar resultados\n",
        "print(\"⭐ CALIFICACIONES PROMEDIO POR TIENDA ⭐\\n\")\n",
        "for nombre, promedio in resultados:\n",
        "    print(f\"→ {nombre}: {promedio}/5.0\")\n",
        "    print(\"★\" * int(promedio) + \"☆\" * (5 - int(promedio)))\n",
        "    print(\"─\" * 40)\n",
        "\n",
        "# Encontrar la mejor calificada\n",
        "mejor_tienda = max(resultados, key=lambda x: x[1])\n",
        "print(f\"\\n🏆 MEJOR CALIFICACIÓN: {mejor_tienda[0]} ({mejor_tienda[1]}/5.0)\")\n",
        "\n",
        "# Encontrar la peor calificada\n",
        "peor_tienda = min(resultados, key=lambda x: x[1])\n",
        "print(f\"\\n🏆 MENOR CALIFICACIÓN: {peor_tienda[0]} ({peor_tienda[1]}/5.0)\")"
      ],
      "metadata": {
        "id": "bh3jjjJwY5MU",
        "colab": {
          "base_uri": "https://localhost:8080/"
        },
        "outputId": "79c067f6-b7a8-4dbb-8901-67e3822fe14c"
      },
      "execution_count": null,
      "outputs": [
        {
          "output_type": "stream",
          "name": "stdout",
          "text": [
            "⭐ CALIFICACIONES PROMEDIO POR TIENDA ⭐\n",
            "\n",
            "→ Tienda 1: 3.98/5.0\n",
            "★★★☆☆\n",
            "────────────────────────────────────────\n",
            "→ Tienda 2: 4.04/5.0\n",
            "★★★★☆\n",
            "────────────────────────────────────────\n",
            "→ Tienda 3: 4.05/5.0\n",
            "★★★★☆\n",
            "────────────────────────────────────────\n",
            "→ Tienda 4: 4.0/5.0\n",
            "★★★★☆\n",
            "────────────────────────────────────────\n",
            "\n",
            "🏆 MEJOR CALIFICACIÓN: Tienda 3 (4.05/5.0)\n",
            "\n",
            "🏆 MENOR CALIFICACIÓN: Tienda 1 (3.98/5.0)\n"
          ]
        }
      ]
    },
    {
      "cell_type": "code",
      "source": [],
      "metadata": {
        "id": "I0KkjPoTY88F"
      },
      "execution_count": null,
      "outputs": []
    },
    {
      "cell_type": "markdown",
      "source": [
        "# 4. Productos más y menos vendidos"
      ],
      "metadata": {
        "id": "DmNp1KPBZCm-"
      }
    },
    {
      "cell_type": "code",
      "source": [
        "# Convertir DataFrames a listas de diccionarios\n",
        "tiendas = [\n",
        "    (\"Tienda 1\", tienda.to_dict('records')),\n",
        "    (\"Tienda 2\", tienda2.to_dict('records')),\n",
        "    (\"Tienda 3\", tienda3.to_dict('records')),\n",
        "    (\"Tienda 4\", tienda4.to_dict('records'))\n",
        "]\n",
        "\n",
        "resultados = []\n",
        "for nombre, ventas in tiendas:\n",
        "    contador = {}\n",
        "\n",
        "    # Contar apariciones de cada producto\n",
        "    for producto in ventas:\n",
        "        try:\n",
        "            nombre_producto = producto['Producto']\n",
        "            contador[nombre_producto] = contador.get(nombre_producto, 0) + 1\n",
        "        except KeyError:\n",
        "            continue\n",
        "\n",
        "    # Ordenar productos por popularidad\n",
        "    productos_ordenados = sorted(contador.items(), key=lambda x: x[1], reverse=True)\n",
        "\n",
        "    # Guardar resultados\n",
        "    resultados.append((nombre, productos_ordenados))\n",
        "\n",
        "# Mostrar análisis por tienda\n",
        "print(\"📈 PRODUCTOS MÁS Y MENOS VENDIDOS 📉\\n\")\n",
        "for nombre, productos in resultados:\n",
        "    print(f\"🏪 {nombre}:\")\n",
        "\n",
        "    print(\"  🏆 TOP 3:\")\n",
        "    for i, (prod, cant) in enumerate(productos[:3], 1):\n",
        "        print(f\"    {i}. {prod}: {cant} unidades\")\n",
        "\n",
        "    print(\"\\n  🚨 MENOS VENDIDOS:\")\n",
        "    for i, (prod, cant) in enumerate(productos[-3:], 1):\n",
        "        print(f\"    {i}. {prod}: {cant} unidades\")\n",
        "\n",
        "    print(\"─\" * 50)\n",
        "\n",
        "# Encontrar el producto más vendido globalmente\n",
        "all_products = {}\n",
        "for _, productos in resultados:\n",
        "    for prod, cant in productos:\n",
        "        all_products[prod] = all_products.get(prod, 0) + cant\n",
        "\n",
        "top_global = max(all_products.items(), key=lambda x: x[1])\n",
        "flop_global = min(all_products.items(), key=lambda x: x[1])\n",
        "\n",
        "print(f\"\\n🔥 PRODUCTO ESTRELLA: {top_global[0]} ({top_global[1]} ventas totales)\")\n",
        "print(f\"💤 PRODUCTO MENOS POPULAR: {flop_global[0]} ({flop_global[1]} ventas totales)\")"
      ],
      "metadata": {
        "id": "qoyjqijQZHfF",
        "colab": {
          "base_uri": "https://localhost:8080/"
        },
        "outputId": "ebaef9fe-9576-43de-ecb0-3ed36e63e02b"
      },
      "execution_count": null,
      "outputs": [
        {
          "output_type": "stream",
          "name": "stdout",
          "text": [
            "📈 PRODUCTOS MÁS Y MENOS VENDIDOS 📉\n",
            "\n",
            "🏪 Tienda 1:\n",
            "  🏆 TOP 3:\n",
            "    1. Microondas: 60 unidades\n",
            "    2. TV LED UHD 4K: 60 unidades\n",
            "    3. Armario: 60 unidades\n",
            "\n",
            "  🚨 MENOS VENDIDOS:\n",
            "    1. Olla de presión: 35 unidades\n",
            "    2. Auriculares con micrófono: 33 unidades\n",
            "    3. Celular ABXY: 33 unidades\n",
            "──────────────────────────────────────────────────\n",
            "🏪 Tienda 2:\n",
            "  🏆 TOP 3:\n",
            "    1. Iniciando en programación: 65 unidades\n",
            "    2. Microondas: 62 unidades\n",
            "    3. Batería: 61 unidades\n",
            "\n",
            "  🚨 MENOS VENDIDOS:\n",
            "    1. Mesa de comedor: 34 unidades\n",
            "    2. Impresora: 34 unidades\n",
            "    3. Juego de mesa: 32 unidades\n",
            "──────────────────────────────────────────────────\n",
            "🏪 Tienda 3:\n",
            "  🏆 TOP 3:\n",
            "    1. Kit de bancas: 57 unidades\n",
            "    2. Mesa de comedor: 56 unidades\n",
            "    3. Cama king: 56 unidades\n",
            "\n",
            "  🚨 MENOS VENDIDOS:\n",
            "    1. Mochila: 36 unidades\n",
            "    2. Microondas: 36 unidades\n",
            "    3. Bloques de construcción: 35 unidades\n",
            "──────────────────────────────────────────────────\n",
            "🏪 Tienda 4:\n",
            "  🏆 TOP 3:\n",
            "    1. Cama box: 62 unidades\n",
            "    2. Cubertería: 59 unidades\n",
            "    3. Dashboards con Power BI: 56 unidades\n",
            "\n",
            "  🚨 MENOS VENDIDOS:\n",
            "    1. Guitarra acústica: 37 unidades\n",
            "    2. Armario: 34 unidades\n",
            "    3. Guitarra eléctrica: 33 unidades\n",
            "──────────────────────────────────────────────────\n",
            "\n",
            "🔥 PRODUCTO ESTRELLA: Mesa de noche (210 ventas totales)\n",
            "💤 PRODUCTO MENOS POPULAR: Celular ABXY (157 ventas totales)\n"
          ]
        }
      ]
    },
    {
      "cell_type": "code",
      "source": [],
      "metadata": {
        "id": "0Sw3sd4IZIGW"
      },
      "execution_count": null,
      "outputs": []
    },
    {
      "cell_type": "markdown",
      "source": [
        "# 5. Envío promedio por tienda"
      ],
      "metadata": {
        "id": "Fl0cGi3bZKqU"
      }
    },
    {
      "cell_type": "code",
      "source": [
        "# Convertir DataFrames a listas de diccionarios\n",
        "tiendas = [\n",
        "    (\"Tienda 1\", tienda.to_dict('records')),\n",
        "    (\"Tienda 2\", tienda2.to_dict('records')),\n",
        "    (\"Tienda 3\", tienda3.to_dict('records')),\n",
        "    (\"Tienda 4\", tienda4.to_dict('records'))\n",
        "]\n",
        "\n",
        "resultados = []\n",
        "for nombre, ventas in tiendas:\n",
        "    total_envios = 0.0\n",
        "    contador = 0\n",
        "\n",
        "    for producto in ventas:\n",
        "        try:\n",
        "            # Limpiar y convertir a float\n",
        "            costo = str(producto['Costo de envío']).replace('$', '').replace(',', '')\n",
        "            total_envios += float(costo)\n",
        "            contador += 1\n",
        "        except (KeyError, ValueError):\n",
        "            continue\n",
        "\n",
        "    promedio = round(total_envios / contador, 2) if contador > 0 else 0.0\n",
        "    resultados.append((nombre, promedio))\n",
        "\n",
        "# Mostrar resultados\n",
        "print(\"🚚 COSTO PROMEDIO DE ENVÍO POR TIENDA\\n\")\n",
        "for nombre, promedio in resultados:\n",
        "    print(f\"→ {nombre}: ${promedio:.2f}\")\n",
        "    print(\"─\" * 40)\n",
        "\n",
        "# Encontrar extremos\n",
        "mas_caro = max(resultados, key=lambda x: x[1])\n",
        "mas_barato = min(resultados, key=lambda x: x[1])\n",
        "\n",
        "print(f\"\\n📌 TIENDA CON ENVÍOS MÁS CAROS: {mas_caro[0]} (${mas_caro[1]:.2f})\")\n",
        "print(f\"📌 TIENDA CON ENVÍOS MÁS ECONÓMICOS: {mas_barato[0]} (${mas_barato[1]:.2f})\")"
      ],
      "metadata": {
        "id": "S2JeaCykZNy9",
        "colab": {
          "base_uri": "https://localhost:8080/"
        },
        "outputId": "02549ac6-6490-42f6-aaa4-0583a166054f"
      },
      "execution_count": null,
      "outputs": [
        {
          "output_type": "stream",
          "name": "stdout",
          "text": [
            "🚚 COSTO PROMEDIO DE ENVÍO POR TIENDA\n",
            "\n",
            "→ Tienda 1: $26018.61\n",
            "────────────────────────────────────────\n",
            "→ Tienda 2: $25216.24\n",
            "────────────────────────────────────────\n",
            "→ Tienda 3: $24805.68\n",
            "────────────────────────────────────────\n",
            "→ Tienda 4: $23459.46\n",
            "────────────────────────────────────────\n",
            "\n",
            "📌 TIENDA CON ENVÍOS MÁS CAROS: Tienda 1 ($26018.61)\n",
            "📌 TIENDA CON ENVÍOS MÁS ECONÓMICOS: Tienda 4 ($23459.46)\n"
          ]
        }
      ]
    },
    {
      "cell_type": "code",
      "source": [],
      "metadata": {
        "id": "0tSdCie9ZQlt"
      },
      "execution_count": null,
      "outputs": []
    }
  ]
}